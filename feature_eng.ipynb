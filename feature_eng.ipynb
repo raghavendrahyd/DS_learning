{
 "cells": [
  {
   "cell_type": "code",
   "execution_count": 38,
   "metadata": {},
   "outputs": [],
   "source": [
    "import numpy as np \n",
    "import pandas as pd\n",
    "from datetime import timedelta\n",
    "import datetime as dt\n",
    "import matplotlib.pyplot as plt\n",
    "\n",
    "from sklearn.model_selection import train_test_split\n",
    "from sklearn.preprocessing import LabelEncoder\n",
    "from sklearn.feature_extraction import FeatureHasher"
   ]
  },
  {
   "cell_type": "code",
   "execution_count": 2,
   "metadata": {},
   "outputs": [],
   "source": [
    "data = pd.read_csv(\"avazu_train_subset.csv\")"
   ]
  },
  {
   "cell_type": "code",
   "execution_count": 3,
   "metadata": {},
   "outputs": [
    {
     "name": "stdout",
     "output_type": "stream",
     "text": [
      "<class 'pandas.core.frame.DataFrame'>\n",
      "RangeIndex: 2021449 entries, 0 to 2021448\n",
      "Data columns (total 24 columns):\n",
      " #   Column            Dtype \n",
      "---  ------            ----- \n",
      " 0   Unnamed: 0        int64 \n",
      " 1   hour              int64 \n",
      " 2   C1                int64 \n",
      " 3   banner_pos        int64 \n",
      " 4   site_id           object\n",
      " 5   site_domain       object\n",
      " 6   site_category     object\n",
      " 7   app_id            object\n",
      " 8   app_domain        object\n",
      " 9   app_category      object\n",
      " 10  device_id         object\n",
      " 11  device_ip         object\n",
      " 12  device_model      object\n",
      " 13  device_type       int64 \n",
      " 14  device_conn_type  int64 \n",
      " 15  C14               int64 \n",
      " 16  C15               int64 \n",
      " 17  C16               int64 \n",
      " 18  C17               int64 \n",
      " 19  C18               int64 \n",
      " 20  C19               int64 \n",
      " 21  C20               int64 \n",
      " 22  C21               int64 \n",
      " 23  click             int64 \n",
      "dtypes: int64(15), object(9)\n",
      "memory usage: 370.1+ MB\n"
     ]
    }
   ],
   "source": [
    "data.info()"
   ]
  },
  {
   "cell_type": "code",
   "execution_count": 4,
   "metadata": {},
   "outputs": [],
   "source": [
    "types = {'Unnamed: 0': np.uint32, 'click': np.uint8, 'hour': np.uint32, 'C1': np.uint32,\n",
    "         'banner_pos': np.uint32, 'site_id': 'category', 'site_domain': 'category', \n",
    "         'site_category': 'category', 'app_id': 'category', 'app_domain': 'category',\n",
    "         'app_category': 'category', 'device_id': 'category', 'device_ip': 'category',\n",
    "         'device_model': 'category', 'device_type': np.uint8, 'device_conn_type': np.uint8,\n",
    "         'C14': np.uint16, 'C15': np.uint16, 'C16': np.uint16, 'C17': np.uint16,\n",
    "         'C18': np.uint16, 'C19': np.uint16, 'C20': np.uint16, 'C21': np.uint16}"
   ]
  },
  {
   "cell_type": "code",
   "execution_count": 5,
   "metadata": {},
   "outputs": [],
   "source": [
    "# For reduced memory usage\n",
    "data = pd.read_csv(\"avazu_train_subset.csv\", usecols=types.keys(), dtype=types)"
   ]
  },
  {
   "cell_type": "code",
   "execution_count": 6,
   "metadata": {},
   "outputs": [
    {
     "name": "stdout",
     "output_type": "stream",
     "text": [
      "<class 'pandas.core.frame.DataFrame'>\n",
      "RangeIndex: 2021449 entries, 0 to 2021448\n",
      "Data columns (total 24 columns):\n",
      " #   Column            Dtype   \n",
      "---  ------            -----   \n",
      " 0   Unnamed: 0        uint32  \n",
      " 1   hour              uint32  \n",
      " 2   C1                uint32  \n",
      " 3   banner_pos        uint32  \n",
      " 4   site_id           category\n",
      " 5   site_domain       category\n",
      " 6   site_category     category\n",
      " 7   app_id            category\n",
      " 8   app_domain        category\n",
      " 9   app_category      category\n",
      " 10  device_id         category\n",
      " 11  device_ip         category\n",
      " 12  device_model      category\n",
      " 13  device_type       uint8   \n",
      " 14  device_conn_type  uint8   \n",
      " 15  C14               uint16  \n",
      " 16  C15               uint16  \n",
      " 17  C16               uint16  \n",
      " 18  C17               uint16  \n",
      " 19  C18               uint16  \n",
      " 20  C19               uint16  \n",
      " 21  C20               uint16  \n",
      " 22  C21               uint16  \n",
      " 23  click             uint8   \n",
      "dtypes: category(9), uint16(8), uint32(4), uint8(3)\n",
      "memory usage: 156.5 MB\n"
     ]
    }
   ],
   "source": [
    "data.info()"
   ]
  },
  {
   "cell_type": "code",
   "execution_count": 7,
   "metadata": {},
   "outputs": [],
   "source": [
    "data.drop(columns =['Unnamed: 0'], inplace =True)"
   ]
  },
  {
   "cell_type": "code",
   "execution_count": 14,
   "metadata": {},
   "outputs": [],
   "source": [
    "train, test = train_test_split(data, train_size=0.8)"
   ]
  },
  {
   "cell_type": "markdown",
   "metadata": {},
   "source": [
    "##### Freq Encoding"
   ]
  },
  {
   "cell_type": "code",
   "execution_count": 15,
   "metadata": {},
   "outputs": [],
   "source": [
    "freq_counts = train.groupby(['site_category']).size()\n",
    "\n",
    "train[\"site_category_freq\"] = train[\"site_category\"].map(freq_counts)\n"
   ]
  },
  {
   "cell_type": "markdown",
   "metadata": {},
   "source": [
    "#### Mean encoding"
   ]
  },
  {
   "cell_type": "markdown",
   "metadata": {},
   "source": [
    "Using the mean of the response variable per category to encode that response variable"
   ]
  },
  {
   "cell_type": "code",
   "execution_count": 26,
   "metadata": {},
   "outputs": [
    {
     "data": {
      "text/plain": [
       "1005    1485620\n",
       "1002      88654\n",
       "1010      36207\n",
       "1012       4633\n",
       "1007       1426\n",
       "1001        392\n",
       "1008        227\n",
       "Name: C1, dtype: int64"
      ]
     },
     "execution_count": 26,
     "metadata": {},
     "output_type": "execute_result"
    }
   ],
   "source": [
    "train['C1'].value_counts()"
   ]
  },
  {
   "cell_type": "code",
   "execution_count": 29,
   "metadata": {},
   "outputs": [
    {
     "data": {
      "text/plain": [
       "1    1492296\n",
       "0      88654\n",
       "4      31003\n",
       "5       5204\n",
       "2          2\n",
       "Name: device_type, dtype: int64"
      ]
     },
     "execution_count": 29,
     "metadata": {},
     "output_type": "execute_result"
    }
   ],
   "source": [
    "train['device_type'].value_counts()"
   ]
  },
  {
   "cell_type": "code",
   "execution_count": 32,
   "metadata": {},
   "outputs": [],
   "source": [
    "m = train[\"C1\"].groupby(train[\"device_type\"]).mean()\n",
    "\n",
    "train[\"c1_mean_enc\"] = train[\"device_type\"].map(m)"
   ]
  },
  {
   "cell_type": "markdown",
   "metadata": {},
   "source": [
    "##### Hash encoding and label encoding"
   ]
  },
  {
   "cell_type": "markdown",
   "metadata": {},
   "source": [
    "Label encoding: categorical values are replaced by numeric integers"
   ]
  },
  {
   "cell_type": "code",
   "execution_count": 20,
   "metadata": {},
   "outputs": [],
   "source": [
    "def label_encoding_cols(train, test, col):\n",
    "    train[col] = train[col].astype('category').cat.as_ordered()\n",
    "    encoder = train[col].cat.categories\n",
    "    train[col] = train[col].cat.codes + 1\n",
    "    test[col] = pd.Categorical(test[col], categories=encoder, ordered=True)\n",
    "    test[col] = test[col].cat.codes + 1"
   ]
  },
  {
   "cell_type": "code",
   "execution_count": 21,
   "metadata": {},
   "outputs": [],
   "source": [
    "def label_encoding_with_UNK(train, val, col, UNK=True):\n",
    "    \"\"\" Label encoding handling \"UNK\" values too\n",
    "    \"\"\"\n",
    "    le = LabelEncoder()\n",
    "    uniq = np.unique(train[col])\n",
    "    if UNK:\n",
    "        uniq = np.concatenate((np.array([\"UNK\"]),uniq))\n",
    "    le.fit(uniq)\n",
    "    train[col] = le.transform(train[col])\n",
    "    val_col = [x if x in le.classes_ else 'UNK' for x in val[col]]\n",
    "    val[col] = le.transform(val_col)"
   ]
  },
  {
   "cell_type": "code",
   "execution_count": 34,
   "metadata": {},
   "outputs": [
    {
     "data": {
      "text/plain": [
       "['b9528b13', 'b5f3b24a', '7801e8d9', '5c620f04', '5c5a694b', ..., 'a5f9dc5b', '9299777a', '7a0640b2', 'fd0f197b', '52c29fe1']\n",
       "Length: 247\n",
       "Categories (265, object): ['0654b444', '0b7d3d7d', '0d79ee56', '0e8616ad', ..., 'dcb74110', 'a5f9dc5b', '11c6546c', '6bfb9168']"
      ]
     },
     "execution_count": 34,
     "metadata": {},
     "output_type": "execute_result"
    }
   ],
   "source": [
    "train.app_domain.unique()"
   ]
  },
  {
   "cell_type": "code",
   "execution_count": 36,
   "metadata": {},
   "outputs": [],
   "source": [
    "le = label_encoding_with_UNK(train, test, 'app_domain')"
   ]
  },
  {
   "cell_type": "markdown",
   "metadata": {},
   "source": [
    "Hashing: Category is mapped into a vector of d dimensions"
   ]
  },
  {
   "cell_type": "code",
   "execution_count": 39,
   "metadata": {},
   "outputs": [],
   "source": [
    "def hashing_trick(col, n_features=3):\n",
    "    name = col.name\n",
    "    col_names = [name + \"_\" + str(i+1) for i in range(n_features)]\n",
    "    h = FeatureHasher(input_type='string', n_features=n_features)\n",
    "    out = h.transform(col).toarray()\n",
    "    return pd.DataFrame(out, columns=col_names)"
   ]
  },
  {
   "cell_type": "code",
   "execution_count": 41,
   "metadata": {},
   "outputs": [
    {
     "data": {
      "text/plain": [
       "['3657b706', '9e3836ff', '698a4073', '6360f9ec', '7ac6007f', ..., '7a797e9f', 'b6752cb9', 'be8891d0', '34a16602', '4c26e918']\n",
       "Length: 5606\n",
       "Categories (5804, object): ['00097428', '0009f4d7', '008ac803', '00b08597', ..., '9a44e584', '9a7e2cd3', 'd9117b40', 'e298e9e8']"
      ]
     },
     "execution_count": 41,
     "metadata": {},
     "output_type": "execute_result"
    }
   ],
   "source": [
    "train.device_model.unique()"
   ]
  },
  {
   "cell_type": "code",
   "execution_count": 42,
   "metadata": {},
   "outputs": [
    {
     "data": {
      "text/html": [
       "<div>\n",
       "<style scoped>\n",
       "    .dataframe tbody tr th:only-of-type {\n",
       "        vertical-align: middle;\n",
       "    }\n",
       "\n",
       "    .dataframe tbody tr th {\n",
       "        vertical-align: top;\n",
       "    }\n",
       "\n",
       "    .dataframe thead th {\n",
       "        text-align: right;\n",
       "    }\n",
       "</style>\n",
       "<table border=\"1\" class=\"dataframe\">\n",
       "  <thead>\n",
       "    <tr style=\"text-align: right;\">\n",
       "      <th></th>\n",
       "      <th>device_model_1</th>\n",
       "      <th>device_model_2</th>\n",
       "      <th>device_model_3</th>\n",
       "      <th>device_model_4</th>\n",
       "      <th>device_model_5</th>\n",
       "      <th>device_model_6</th>\n",
       "      <th>device_model_7</th>\n",
       "      <th>device_model_8</th>\n",
       "      <th>device_model_9</th>\n",
       "      <th>device_model_10</th>\n",
       "    </tr>\n",
       "  </thead>\n",
       "  <tbody>\n",
       "    <tr>\n",
       "      <th>0</th>\n",
       "      <td>4.0</td>\n",
       "      <td>-1.0</td>\n",
       "      <td>0.0</td>\n",
       "      <td>0.0</td>\n",
       "      <td>0.0</td>\n",
       "      <td>0.0</td>\n",
       "      <td>0.0</td>\n",
       "      <td>0.0</td>\n",
       "      <td>2.0</td>\n",
       "      <td>-1.0</td>\n",
       "    </tr>\n",
       "    <tr>\n",
       "      <th>1</th>\n",
       "      <td>3.0</td>\n",
       "      <td>1.0</td>\n",
       "      <td>0.0</td>\n",
       "      <td>1.0</td>\n",
       "      <td>0.0</td>\n",
       "      <td>0.0</td>\n",
       "      <td>0.0</td>\n",
       "      <td>0.0</td>\n",
       "      <td>0.0</td>\n",
       "      <td>1.0</td>\n",
       "    </tr>\n",
       "    <tr>\n",
       "      <th>2</th>\n",
       "      <td>3.0</td>\n",
       "      <td>1.0</td>\n",
       "      <td>-1.0</td>\n",
       "      <td>-1.0</td>\n",
       "      <td>0.0</td>\n",
       "      <td>0.0</td>\n",
       "      <td>0.0</td>\n",
       "      <td>0.0</td>\n",
       "      <td>1.0</td>\n",
       "      <td>-1.0</td>\n",
       "    </tr>\n",
       "    <tr>\n",
       "      <th>3</th>\n",
       "      <td>3.0</td>\n",
       "      <td>1.0</td>\n",
       "      <td>0.0</td>\n",
       "      <td>1.0</td>\n",
       "      <td>0.0</td>\n",
       "      <td>0.0</td>\n",
       "      <td>0.0</td>\n",
       "      <td>-1.0</td>\n",
       "      <td>0.0</td>\n",
       "      <td>0.0</td>\n",
       "    </tr>\n",
       "    <tr>\n",
       "      <th>4</th>\n",
       "      <td>2.0</td>\n",
       "      <td>0.0</td>\n",
       "      <td>0.0</td>\n",
       "      <td>1.0</td>\n",
       "      <td>0.0</td>\n",
       "      <td>0.0</td>\n",
       "      <td>0.0</td>\n",
       "      <td>-1.0</td>\n",
       "      <td>2.0</td>\n",
       "      <td>-2.0</td>\n",
       "    </tr>\n",
       "    <tr>\n",
       "      <th>5</th>\n",
       "      <td>2.0</td>\n",
       "      <td>0.0</td>\n",
       "      <td>0.0</td>\n",
       "      <td>2.0</td>\n",
       "      <td>0.0</td>\n",
       "      <td>0.0</td>\n",
       "      <td>0.0</td>\n",
       "      <td>0.0</td>\n",
       "      <td>0.0</td>\n",
       "      <td>2.0</td>\n",
       "    </tr>\n",
       "    <tr>\n",
       "      <th>6</th>\n",
       "      <td>3.0</td>\n",
       "      <td>1.0</td>\n",
       "      <td>0.0</td>\n",
       "      <td>-1.0</td>\n",
       "      <td>0.0</td>\n",
       "      <td>0.0</td>\n",
       "      <td>0.0</td>\n",
       "      <td>-2.0</td>\n",
       "      <td>0.0</td>\n",
       "      <td>1.0</td>\n",
       "    </tr>\n",
       "  </tbody>\n",
       "</table>\n",
       "</div>"
      ],
      "text/plain": [
       "   device_model_1  device_model_2  device_model_3  device_model_4  \\\n",
       "0             4.0            -1.0             0.0             0.0   \n",
       "1             3.0             1.0             0.0             1.0   \n",
       "2             3.0             1.0            -1.0            -1.0   \n",
       "3             3.0             1.0             0.0             1.0   \n",
       "4             2.0             0.0             0.0             1.0   \n",
       "5             2.0             0.0             0.0             2.0   \n",
       "6             3.0             1.0             0.0            -1.0   \n",
       "\n",
       "   device_model_5  device_model_6  device_model_7  device_model_8  \\\n",
       "0             0.0             0.0             0.0             0.0   \n",
       "1             0.0             0.0             0.0             0.0   \n",
       "2             0.0             0.0             0.0             0.0   \n",
       "3             0.0             0.0             0.0            -1.0   \n",
       "4             0.0             0.0             0.0            -1.0   \n",
       "5             0.0             0.0             0.0             0.0   \n",
       "6             0.0             0.0             0.0            -2.0   \n",
       "\n",
       "   device_model_9  device_model_10  \n",
       "0             2.0             -1.0  \n",
       "1             0.0              1.0  \n",
       "2             1.0             -1.0  \n",
       "3             0.0              0.0  \n",
       "4             2.0             -2.0  \n",
       "5             0.0              2.0  \n",
       "6             0.0              1.0  "
      ]
     },
     "execution_count": 42,
     "metadata": {},
     "output_type": "execute_result"
    }
   ],
   "source": [
    "hashing_trick(train['device_model'][:7], n_features=10)"
   ]
  },
  {
   "cell_type": "code",
   "execution_count": null,
   "metadata": {},
   "outputs": [],
   "source": []
  }
 ],
 "metadata": {
  "kernelspec": {
   "display_name": "Python 3.9.12 ('base')",
   "language": "python",
   "name": "python3"
  },
  "language_info": {
   "codemirror_mode": {
    "name": "ipython",
    "version": 3
   },
   "file_extension": ".py",
   "mimetype": "text/x-python",
   "name": "python",
   "nbconvert_exporter": "python",
   "pygments_lexer": "ipython3",
   "version": "3.9.12"
  },
  "orig_nbformat": 4,
  "vscode": {
   "interpreter": {
    "hash": "e24feefc12507091c1cc5c909894aa0b203b7a09f5773a65eff3ac99e8b49fe2"
   }
  }
 },
 "nbformat": 4,
 "nbformat_minor": 2
}
